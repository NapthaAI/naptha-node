{
 "cells": [
  {
   "cell_type": "code",
   "execution_count": null,
   "metadata": {},
   "outputs": [],
   "source": [
    "import os\n",
    "import io\n",
    "import time\n",
    "import tarfile\n",
    "import requests\n",
    "from db import DB\n",
    "from dotenv import load_dotenv\n",
    "\n",
    "load_dotenv()"
   ]
  },
  {
   "cell_type": "code",
   "execution_count": null,
   "metadata": {},
   "outputs": [],
   "source": [
    "db = DB()"
   ]
  },
  {
   "cell_type": "markdown",
   "metadata": {},
   "source": [
    "### Signup test_jobcreator"
   ]
  },
  {
   "cell_type": "code",
   "execution_count": null,
   "metadata": {},
   "outputs": [],
   "source": [
    "async def signin_signup():\n",
    "    try: \n",
    "        token, user_id = await db.signin(\n",
    "            {\n",
    "                'username': os.getenv('DB_USERNAME'),\n",
    "                'password': os.getenv('DB_PASSWORD'),\n",
    "            }\n",
    "        )\n",
    "    except Exception as e: \n",
    "        token, user_id = await db.signup(\n",
    "                {\n",
    "                    'name': 'test',\n",
    "                    'username': os.getenv('DB_USERNAME'),\n",
    "                    'password': os.getenv('DB_PASSWORD'),\n",
    "                }\n",
    "            )\n",
    "    return token, user_id\n",
    "\n",
    "token, user_id = await signin_signup()"
   ]
  },
  {
   "cell_type": "markdown",
   "metadata": {},
   "source": [
    "### List Nodes by Job Creator"
   ]
  },
  {
   "cell_type": "code",
   "execution_count": null,
   "metadata": {},
   "outputs": [],
   "source": [
    "await db.list_nodes(\n",
    "    username=os.getenv('DB_USERNAME'),\n",
    "    password=os.getenv('DB_PASSWORD'),\n",
    ")"
   ]
  },
  {
   "cell_type": "markdown",
   "metadata": {},
   "source": [
    "### Add a job"
   ]
  },
  {
   "cell_type": "code",
   "execution_count": null,
   "metadata": {},
   "outputs": [],
   "source": [
    "job_dict = {\n",
    "    'owner': user_id,\n",
    "    'name': 'test_job',\n",
    "    'desc': 'test description',\n",
    "    'docker_params': {\n",
    "        'docker_image': 'sum-app',\n",
    "        'docker_command':'python sum.py --num1 3 --num2 4',\n",
    "        'docker_env_vars': {'env1': 'val1', 'env2': 'val2'}\n",
    "    },\n",
    "}\n",
    "\n",
    "job = await db.create_job(\n",
    "    job=job_dict,\n",
    "    username=os.getenv('DB_USERNAME'),\n",
    "    password=os.getenv('DB_PASSWORD'),\n",
    ")\n",
    "job"
   ]
  },
  {
   "cell_type": "code",
   "execution_count": null,
   "metadata": {},
   "outputs": [],
   "source": [
    "while True:\n",
    "    j = await db.get_job(\n",
    "        job_id=job[1][0]['id'],\n",
    "        username=os.getenv('DB_USERNAME'),\n",
    "        password=os.getenv('DB_PASSWORD'),\n",
    "    )\n",
    "    status = j['status']\n",
    "    print(status)   \n",
    "\n",
    "    if status == 'completed':\n",
    "        break\n",
    "    if status == 'error':\n",
    "        break\n",
    "\n",
    "    time.sleep(3)\n",
    "\n",
    "j"
   ]
  },
  {
   "cell_type": "code",
   "execution_count": null,
   "metadata": {},
   "outputs": [],
   "source": [
    "print(j['output'])"
   ]
  },
  {
   "cell_type": "markdown",
   "metadata": {},
   "source": [
    "### Add job with output folder"
   ]
  },
  {
   "cell_type": "code",
   "execution_count": null,
   "metadata": {},
   "outputs": [],
   "source": [
    "job_dict = {\n",
    "    'owner': user_id,\n",
    "    'name': 'test_job',\n",
    "    'desc': 'test description',\n",
    "    'docker_params': {\n",
    "        'docker_image': 'cv2-image',\n",
    "        'docker_command':'python inference.py --prompt daimonxdaimon',\n",
    "        'docker_output_dir': '/app/output',\n",
    "    }\n",
    "}\n",
    "\n",
    "job = await db.create_job(\n",
    "    job=job_dict,\n",
    "    username=os.getenv('DB_USERNAME'),\n",
    "    password=os.getenv('DB_PASSWORD'),\n",
    ")\n",
    "job"
   ]
  },
  {
   "cell_type": "code",
   "execution_count": null,
   "metadata": {},
   "outputs": [],
   "source": [
    "while True:\n",
    "    j = await db.get_job(\n",
    "        job_id=job[1][0]['id'],\n",
    "        username=os.getenv('DB_USERNAME'),\n",
    "        password=os.getenv('DB_PASSWORD'),\n",
    "    )\n",
    "    status = j['status']\n",
    "    print(status)   \n",
    "\n",
    "    if status == 'completed':\n",
    "        break\n",
    "    if status == 'error':\n",
    "        break\n",
    "\n",
    "    time.sleep(3)\n",
    "\n",
    "j"
   ]
  },
  {
   "cell_type": "code",
   "execution_count": null,
   "metadata": {},
   "outputs": [],
   "source": [
    "print(j['output'])"
   ]
  },
  {
   "cell_type": "markdown",
   "metadata": {},
   "source": [
    "### Get the output folder"
   ]
  },
  {
   "cell_type": "code",
   "execution_count": null,
   "metadata": {},
   "outputs": [],
   "source": [
    "headers = {\"Authorization\": f\"Bearer {token}\"}\n",
    "payload = {\"id\": job[1][0]['id']}\n",
    "\n",
    "url = \"http://localhost:8001/hub_get_job_output\"\n",
    "\n",
    "r = requests.post(url, headers=headers, json=payload)"
   ]
  },
  {
   "cell_type": "code",
   "execution_count": null,
   "metadata": {},
   "outputs": [],
   "source": [
    "# Response is a tar folder; untar it and save it to a given location\n",
    "output_dir = \"/Users/arshath/play/daimon/output_folder/aaaa\"\n",
    "\n",
    "if not os.path.exists(output_dir):\n",
    "    os.makedirs(output_dir)\n",
    "\n",
    "with tarfile.open(fileobj=io.BytesIO(r.content), mode=\"r|gz\") as tar:\n",
    "    tar.extractall(output_dir)"
   ]
  },
  {
   "cell_type": "markdown",
   "metadata": {},
   "source": [
    "### Execute template job"
   ]
  },
  {
   "cell_type": "code",
   "execution_count": null,
   "metadata": {},
   "outputs": [],
   "source": [
    "template_job = {\n",
    "    'owner': user_id,\n",
    "    'name': 'test_job',\n",
    "    'desc': 'test description',\n",
    "    'job_type': 'template',\n",
    "    'template_params': {\n",
    "        'template_name': 'hello-world-1',\n",
    "        'template_args': {\n",
    "        'name': 'template name',\n",
    "        'description': 'template description',\n",
    "        'param1': 3,\n",
    "        'param2': 4,\n",
    "        }\n",
    "    }\n",
    "}\n",
    "\n",
    "job = await db.create_job(\n",
    "    job=template_job,\n",
    "    username=os.getenv('DB_USERNAME'),\n",
    "    password=os.getenv('DB_PASSWORD'),\n",
    ")\n",
    "job"
   ]
  },
  {
   "cell_type": "code",
   "execution_count": null,
   "metadata": {},
   "outputs": [],
   "source": [
    "while True:\n",
    "    j = await db.get_job(\n",
    "        job_id=job[1][0]['id'],\n",
    "        username=os.getenv('DB_USERNAME'),\n",
    "        password=os.getenv('DB_PASSWORD'),\n",
    "    )\n",
    "    status = j['status']\n",
    "    print(status)   \n",
    "\n",
    "    if status == 'completed':\n",
    "        break\n",
    "    if status == 'error':\n",
    "        break\n",
    "\n",
    "    time.sleep(3)\n",
    "\n",
    "if j['status'] == 'completed':\n",
    "    print(f\"Job Status: {j['status']}\")\n",
    "    print(f\"Job Output: {j['output']}\")\n",
    "else:\n",
    "    print(f\"Error: {j['error']} Error Message: {j['error_message']}\")"
   ]
  },
  {
   "cell_type": "code",
   "execution_count": null,
   "metadata": {},
   "outputs": [],
   "source": [
    "template_job = {\n",
    "    'owner': user_id,\n",
    "    'name': 'test_job',\n",
    "    'desc': 'test description',\n",
    "    'job_type': 'template',\n",
    "    'template_params': {\n",
    "        'template_name': 'hello-world-2',\n",
    "        'template_args': {\n",
    "        'name': 'template name',\n",
    "        'description': 'template description',\n",
    "        'param1': 10,\n",
    "        'param2': 4,\n",
    "        }\n",
    "    }\n",
    "}\n",
    "\n",
    "job = await db.create_job(\n",
    "    job=template_job,\n",
    "    username=os.getenv('DB_USERNAME'),\n",
    "    password=os.getenv('DB_PASSWORD'),\n",
    ")\n",
    "job"
   ]
  },
  {
   "cell_type": "code",
   "execution_count": null,
   "metadata": {},
   "outputs": [],
   "source": [
    "while True:\n",
    "    j = await db.get_job(\n",
    "        job_id=job[1][0]['id'],\n",
    "        username=os.getenv('DB_USERNAME'),\n",
    "        password=os.getenv('DB_PASSWORD'),\n",
    "    )\n",
    "    status = j['status']\n",
    "    print(status)   \n",
    "\n",
    "    if status == 'completed':\n",
    "        break\n",
    "    if status == 'error':\n",
    "        break\n",
    "\n",
    "    time.sleep(3)\n",
    "\n",
    "if j['status'] == 'completed':\n",
    "    print(j['output'])\n",
    "else:\n",
    "    print(j['error_message'])"
   ]
  },
  {
   "cell_type": "markdown",
   "metadata": {},
   "source": [
    "### Template - Research Assistant"
   ]
  },
  {
   "cell_type": "code",
   "execution_count": null,
   "metadata": {},
   "outputs": [],
   "source": [
    "template_job = {\n",
    "    'owner': user_id,\n",
    "    'name': 'test_job',\n",
    "    'desc': 'test description',\n",
    "    'job_type': 'template',\n",
    "    'template_params': {\n",
    "        'template_name': 'research-assistant',\n",
    "        'template_args': {\n",
    "            'question': 'What is the some popular attractions in Singapore?',\n",
    "        }\n",
    "    }\n",
    "}\n",
    "\n",
    "job = await db.create_job(\n",
    "    job=template_job,\n",
    "    username=os.getenv('DB_USERNAME'),\n",
    "    password=os.getenv('DB_PASSWORD'),\n",
    ")\n",
    "job"
   ]
  },
  {
   "cell_type": "code",
   "execution_count": null,
   "metadata": {},
   "outputs": [],
   "source": [
    "while True:\n",
    "    j = await db.get_job(\n",
    "        job_id=job[1][0]['id'],\n",
    "        username=os.getenv('DB_USERNAME'),\n",
    "        password=os.getenv('DB_PASSWORD'),\n",
    "    )\n",
    "    status = j['status']\n",
    "    print(status)   \n",
    "\n",
    "    if status == 'completed':\n",
    "        break\n",
    "    if status == 'error':\n",
    "        break\n",
    "\n",
    "    time.sleep(3)\n",
    "\n",
    "if j['status'] == 'completed':\n",
    "    print(j['output'])\n",
    "else:\n",
    "    print(j['error_message'])"
   ]
  },
  {
   "cell_type": "markdown",
   "metadata": {},
   "source": [
    "### Skeleton of thought"
   ]
  },
  {
   "cell_type": "code",
   "execution_count": null,
   "metadata": {},
   "outputs": [],
   "source": [
    "template_job = {\n",
    "    'owner': user_id,\n",
    "    'name': 'test_job',\n",
    "    'desc': 'test description',\n",
    "    'job_type': 'template',\n",
    "    'template_params': {\n",
    "        'template_name': 'skeleton-of-thought',\n",
    "        'template_args': {\n",
    "            'question': 'What is the some popular attractions in Singapore?',\n",
    "        }\n",
    "    }\n",
    "}\n",
    "\n",
    "job = await db.create_job(\n",
    "    job=template_job,\n",
    "    username=os.getenv('DB_USERNAME'),\n",
    "    password=os.getenv('DB_PASSWORD'),\n",
    ")\n",
    "job"
   ]
  },
  {
   "cell_type": "code",
   "execution_count": null,
   "metadata": {},
   "outputs": [],
   "source": [
    "while True:\n",
    "    j = await db.get_job(\n",
    "        job_id=job[1][0]['id'],\n",
    "        username=os.getenv('DB_USERNAME'),\n",
    "        password=os.getenv('DB_PASSWORD'),\n",
    "    )\n",
    "    status = j['status']\n",
    "    print(status)   \n",
    "\n",
    "    if status == 'completed':\n",
    "        break\n",
    "    if status == 'error':\n",
    "        break\n",
    "\n",
    "    time.sleep(3)\n",
    "\n",
    "if j['status'] == 'completed':\n",
    "    print(j['output'])\n",
    "else:\n",
    "    print(j['error_message'])"
   ]
  },
  {
   "cell_type": "markdown",
   "metadata": {},
   "source": [
    "### run_ollama"
   ]
  },
  {
   "cell_type": "code",
   "execution_count": null,
   "metadata": {},
   "outputs": [],
   "source": [
    "template_job = {\n",
    "    'owner': user_id,\n",
    "    'name': 'test_job',\n",
    "    'desc': 'test description',\n",
    "    'job_type': 'template',\n",
    "    'template_params': {\n",
    "        'template_name': 'run-ollama',\n",
    "        'template_args': {\n",
    "            'model': 'phi',\n",
    "            'prompt': 'tell me a joke',\n",
    "        }\n",
    "    }\n",
    "}\n",
    "\n",
    "job = await db.create_job(\n",
    "    job=template_job,\n",
    "    username=os.getenv('DB_USERNAME'),\n",
    "    password=os.getenv('DB_PASSWORD'),\n",
    ")\n",
    "job"
   ]
  },
  {
   "cell_type": "code",
   "execution_count": null,
   "metadata": {},
   "outputs": [],
   "source": [
    "while True:\n",
    "    j = await db.get_job(\n",
    "        job_id=job[1][0]['id'],\n",
    "        username=os.getenv('DB_USERNAME'),\n",
    "        password=os.getenv('DB_PASSWORD'),\n",
    "    )\n",
    "    status = j['status']\n",
    "    print(status)   \n",
    "\n",
    "    if status == 'completed':\n",
    "        break\n",
    "    if status == 'error':\n",
    "        break\n",
    "\n",
    "    time.sleep(3)\n",
    "\n",
    "if j['status'] == 'completed':\n",
    "    print(j['output'])\n",
    "else:\n",
    "    print(j['error_message'])"
   ]
  },
  {
   "cell_type": "markdown",
   "metadata": {},
   "source": [
    "#### run_ollama with system_message"
   ]
  },
  {
   "cell_type": "code",
   "execution_count": null,
   "metadata": {},
   "outputs": [],
   "source": [
    "template_job = {\n",
    "    'owner': user_id,\n",
    "    'name': 'test_job',\n",
    "    'desc': 'test description',\n",
    "    'job_type': 'template',\n",
    "    'template_params': {\n",
    "        'template_name': 'run-ollama',\n",
    "        'template_args': {\n",
    "            'model': 'mistral',\n",
    "            'prompt': 'tell me a joke about yourself',\n",
    "            'system_message': 'You are Ollama'\n",
    "        }\n",
    "    }\n",
    "}\n",
    "\n",
    "job = await db.create_job(\n",
    "    job=template_job,\n",
    "    username=os.getenv('DB_USERNAME'),\n",
    "    password=os.getenv('DB_PASSWORD'),\n",
    ")\n",
    "job"
   ]
  },
  {
   "cell_type": "code",
   "execution_count": null,
   "metadata": {},
   "outputs": [],
   "source": [
    "while True:\n",
    "    j = await db.get_job(\n",
    "        job_id=job[1][0]['id'],\n",
    "        username=os.getenv('DB_USERNAME'),\n",
    "        password=os.getenv('DB_PASSWORD'),\n",
    "    )\n",
    "    status = j['status']\n",
    "    print(status)   \n",
    "\n",
    "    if status == 'completed':\n",
    "        break\n",
    "    if status == 'error':\n",
    "        break\n",
    "\n",
    "    time.sleep(3)\n",
    "\n",
    "if j['status'] == 'completed':\n",
    "    print(j['output'])\n",
    "else:\n",
    "    print(j['error_message'])"
   ]
  },
  {
   "cell_type": "code",
   "execution_count": null,
   "metadata": {},
   "outputs": [],
   "source": []
  }
 ],
 "metadata": {
  "kernelspec": {
   "display_name": "node",
   "language": "python",
   "name": "python3"
  },
  "language_info": {
   "codemirror_mode": {
    "name": "ipython",
    "version": 3
   },
   "file_extension": ".py",
   "mimetype": "text/x-python",
   "name": "python",
   "nbconvert_exporter": "python",
   "pygments_lexer": "ipython3",
   "version": "3.12.1"
  },
  "orig_nbformat": 4
 },
 "nbformat": 4,
 "nbformat_minor": 2
}
