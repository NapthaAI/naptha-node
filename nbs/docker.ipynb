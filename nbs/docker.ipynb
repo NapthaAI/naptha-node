{
 "cells": [
  {
   "cell_type": "code",
   "execution_count": 2,
   "metadata": {},
   "outputs": [],
   "source": [
    "import docker\n",
    "from IPython.display import display"
   ]
  },
  {
   "cell_type": "code",
   "execution_count": null,
   "metadata": {},
   "outputs": [],
   "source": [
    "client = docker.from_env()\n",
    "client.containers.run(\"ubuntu\", \"echo hello world\")"
   ]
  },
  {
   "cell_type": "code",
   "execution_count": null,
   "metadata": {},
   "outputs": [],
   "source": [
    "client.containers.run('alpine', 'echo hello world')"
   ]
  },
  {
   "cell_type": "code",
   "execution_count": 3,
   "metadata": {},
   "outputs": [],
   "source": [
    "def run_container(image, command, **kwargs):\n",
    "    try:\n",
    "        container = client.containers.run(\n",
    "        image=image,\n",
    "        command=command,\n",
    "        detach=True,\n",
    "        **kwargs\n",
    "        )\n",
    "        for line in container.logs(stream=True, stdout=True, stderr=True):\n",
    "            print(line.strip())\n",
    "\n",
    "    except docker.errors.ContainerError as e:\n",
    "        print(e.stderr.decode())\n",
    "        raise e\n",
    "    \n",
    "    except docker.errors.ImageNotFound as e:\n",
    "        print(e.stderr.decode())\n",
    "        raise e\n",
    "    \n",
    "    except docker.errors.APIError as e:\n",
    "        print(e.stderr.decode())\n",
    "        raise e\n",
    "    \n",
    "    except Exception as e:\n",
    "        print(f\"An error occurred: {str(e)}\")\n",
    "        raise e\n",
    "    \n",
    "    finally:\n",
    "        print(\"Done\")\n",
    "        if 'container' in locals():\n",
    "            container.stop()"
   ]
  },
  {
   "cell_type": "code",
   "execution_count": 4,
   "metadata": {},
   "outputs": [
    {
     "ename": "NameError",
     "evalue": "name 'client' is not defined",
     "output_type": "error",
     "traceback": [
      "\u001b[0;31m---------------------------------------------------------------------------\u001b[0m",
      "\u001b[0;31mNameError\u001b[0m                                 Traceback (most recent call last)",
      "Cell \u001b[0;32mIn[4], line 1\u001b[0m\n\u001b[0;32m----> 1\u001b[0m container \u001b[39m=\u001b[39m client\u001b[39m.\u001b[39mcontainers\u001b[39m.\u001b[39mrun(\n\u001b[1;32m      2\u001b[0m     image\u001b[39m=\u001b[39m\u001b[39m'\u001b[39m\u001b[39mbfirsh/reticulate-splines\u001b[39m\u001b[39m'\u001b[39m,\n\u001b[1;32m      3\u001b[0m     detach\u001b[39m=\u001b[39m\u001b[39mTrue\u001b[39;00m\n\u001b[1;32m      4\u001b[0m )\n\u001b[1;32m      6\u001b[0m \u001b[39mfor\u001b[39;00m i, line \u001b[39min\u001b[39;00m \u001b[39menumerate\u001b[39m(container\u001b[39m.\u001b[39mlogs(stream\u001b[39m=\u001b[39m\u001b[39mTrue\u001b[39;00m)):\n\u001b[1;32m      7\u001b[0m     \u001b[39mprint\u001b[39m(line\u001b[39m.\u001b[39mstrip())\n",
      "\u001b[0;31mNameError\u001b[0m: name 'client' is not defined"
     ]
    }
   ],
   "source": [
    "\n",
    "container = client.containers.run(\n",
    "    image='bfirsh/reticulate-splines',\n",
    "    detach=True\n",
    ")\n",
    "\n",
    "for i, line in enumerate(container.logs(stream=True)):\n",
    "    print(line.strip())\n",
    "\n",
    "    if i > 10:\n",
    "        container.stop()\n",
    "        break"
   ]
  },
  {
   "cell_type": "code",
   "execution_count": null,
   "metadata": {},
   "outputs": [],
   "source": [
    "container = client.containers.run(\n",
    "    image='sum-app', \n",
    "    command='python sum.py 3 3',\n",
    "    detach=True,\n",
    ")\n",
    "for line in container.logs(stream=True, stdout=True):\n",
    "    print(line.strip())"
   ]
  },
  {
   "cell_type": "code",
   "execution_count": 1,
   "metadata": {},
   "outputs": [],
   "source": [
    "import docker\n",
    "from docker.errors import ImageNotFound, ContainerError, APIError"
   ]
  },
  {
   "cell_type": "markdown",
   "metadata": {},
   "source": [
    "#### Example 1"
   ]
  },
  {
   "cell_type": "code",
   "execution_count": 5,
   "metadata": {},
   "outputs": [],
   "source": [
    "def run_container(image, command, **kwargs):\n",
    "\n",
    "    client = docker.from_env()\n",
    "\n",
    "    try:\n",
    "        container = client.containers.run(\n",
    "        image=image,\n",
    "        command=command,\n",
    "        detach=True,\n",
    "        **kwargs\n",
    "        )\n",
    "        for line in container.logs(stream=True, stdout=True, stderr=True):\n",
    "            print(line.strip())\n",
    "\n",
    "    except docker.errors.ContainerError as e:\n",
    "        print(e)\n",
    "        raise e\n",
    "    \n",
    "    except docker.errors.ImageNotFound as e:\n",
    "        print(e)\n",
    "        raise e\n",
    "    \n",
    "    except docker.errors.APIError as e:\n",
    "        print(e)\n",
    "        raise e\n",
    "    \n",
    "    except Exception as e:\n",
    "        print(f\"An error occurred: {str(e)}\")\n",
    "        raise e\n",
    "    \n",
    "    finally:\n",
    "        print(\"Done\")\n",
    "        if 'container' in locals():\n",
    "            container.stop()\n",
    "\n",
    "        # close client\n",
    "        client.close()"
   ]
  },
  {
   "cell_type": "code",
   "execution_count": 7,
   "metadata": {},
   "outputs": [
    {
     "name": "stdout",
     "output_type": "stream",
     "text": [
      "b'2023-12-20 06:13:06,747 - __main__ - INFO - Logger round 20'\n",
      "b'2023-12-20 06:13:07,755 - __main__ - INFO - Logger round 19'\n",
      "b'2023-12-20 06:13:08,765 - __main__ - INFO - Logger round 18'\n",
      "b'2023-12-20 06:13:09,774 - __main__ - INFO - Logger round 17'\n",
      "b'2023-12-20 06:13:10,782 - __main__ - INFO - Logger round 16'\n",
      "b'2023-12-20 06:13:11,784 - __main__ - INFO - Logger round 15'\n",
      "b'2023-12-20 06:13:12,800 - __main__ - INFO - Logger round 14'\n",
      "b'2023-12-20 06:13:13,814 - __main__ - INFO - Logger round 13'\n",
      "b'2023-12-20 06:13:14,821 - __main__ - INFO - Logger round 12'\n",
      "b'2023-12-20 06:13:15,836 - __main__ - INFO - Logger round 11'\n",
      "b'2023-12-20 06:13:16,843 - __main__ - INFO - Logger round 10'\n",
      "b'2023-12-20 06:13:17,854 - __main__ - INFO - Logger round 9'\n",
      "b'2023-12-20 06:13:18,861 - __main__ - INFO - Logger round 8'\n",
      "b'2023-12-20 06:13:19,865 - __main__ - INFO - Logger round 7'\n",
      "b'2023-12-20 06:13:20,873 - __main__ - INFO - Logger round 6'\n",
      "b'2023-12-20 06:13:21,877 - __main__ - INFO - Logger round 5'\n",
      "b'2023-12-20 06:13:22,880 - __main__ - INFO - Logger round 4'\n",
      "b'2023-12-20 06:13:23,885 - __main__ - INFO - Logger round 3'\n",
      "b'2023-12-20 06:13:24,890 - __main__ - INFO - Logger round 2'\n",
      "b'2023-12-20 06:13:25,892 - __main__ - INFO - Logger round 1'\n",
      "b'2023-12-20 06:13:26,904 - __main__ - INFO - Logger round 0'\n",
      "b'2023-12-20 06:13:26,905 - __main__ - INFO - Logger: The sum of 3 and 3 is 6'\n",
      "b'num1: 3'\n",
      "b'num2: 3'\n",
      "b'input_dir: /inputs'\n",
      "b'output_dir: /outputs'\n",
      "b'Print round 20'\n",
      "b'Print round 19'\n",
      "b'Print round 18'\n",
      "b'Print round 17'\n",
      "b'Print round 16'\n",
      "b'Print round 15'\n",
      "b'Print round 14'\n",
      "b'Print round 13'\n",
      "b'Print round 12'\n",
      "b'Print round 11'\n",
      "b'Print round 10'\n",
      "b'Print round 9'\n",
      "b'Print round 8'\n",
      "b'Print round 7'\n",
      "b'Print round 6'\n",
      "b'Print round 5'\n",
      "b'Print round 4'\n",
      "b'Print round 3'\n",
      "b'Print round 2'\n",
      "b'Print round 1'\n",
      "b'Print round 0'\n",
      "b'Print: The sum of 3 and 3 is 6'\n",
      "b'Traceback (most recent call last):'\n",
      "b'File \"sum.py\", line 73, in <module>'\n",
      "b'main(args)'\n",
      "b'File \"sum.py\", line 40, in main'\n",
      "b'print(f\"print env1: {os.environ[\\'env1\\']}\")'\n",
      "b'File \"/usr/local/lib/python3.8/os.py\", line 675, in __getitem__'\n",
      "b'raise KeyError(key) from None'\n",
      "b\"KeyError: 'env1'\"\n",
      "Done\n"
     ]
    }
   ],
   "source": [
    "run_container('sum-app', 'python sum.py --num1 3 --num2 3')"
   ]
  },
  {
   "cell_type": "markdown",
   "metadata": {},
   "source": [
    "#### Example 2"
   ]
  },
  {
   "cell_type": "code",
   "execution_count": null,
   "metadata": {},
   "outputs": [],
   "source": [
    "\n",
    "def run_container(image, command, **kwargs):\n",
    "    client = docker.from_env()\n",
    "    container = None\n",
    "    try:\n",
    "        container = client.containers.run(\n",
    "            image=image,\n",
    "            command=command,\n",
    "            detach=True,\n",
    "            **kwargs\n",
    "        )\n",
    "        \n",
    "        # Using low-level API to attach to container streams\n",
    "        low_level_api = docker.APIClient()\n",
    "        output = low_level_api.attach(container.id, stream=True, logs=True, stdout=True, stderr=True)\n",
    "\n",
    "        for chunk in output:\n",
    "            print(chunk.decode('utf-8').strip())\n",
    "            # Docker outputs in a multiplexed format: first byte for stdout/stderr, next 3 bytes for size\n",
    "            stream_type = chunk[0]\n",
    "            # 1 represents stdout, 2 represents stderr\n",
    "            if stream_type == 1:\n",
    "                print(\"STDOUT:\", chunk[8:].decode('utf-8').strip())\n",
    "            elif stream_type == 2:\n",
    "                print(\"STDERR:\", chunk[8:].decode('utf-8').strip())\n",
    "\n",
    "    except ContainerError as e:\n",
    "        print(\"Container error:\", e.stderr.decode())\n",
    "        raise e\n",
    "    \n",
    "    except ImageNotFound as e:\n",
    "        print(\"Image not found:\", e.stderr.decode())\n",
    "        raise e\n",
    "\n",
    "    except APIError as e:\n",
    "        print(\"API error:\", e.stderr.decode())\n",
    "        raise e\n",
    "\n",
    "    except Exception as e:\n",
    "        print(f\"An error occurred: {str(e)}\")\n",
    "        raise e\n",
    "\n",
    "    finally:\n",
    "        print(\"Done\")\n",
    "        if container:\n",
    "            container.stop()\n",
    "\n",
    "        # close the low-level API client\n",
    "        low_level_api.close()\n",
    "\n",
    "        # close client\n",
    "        client.close()\n",
    "\n"
   ]
  },
  {
   "cell_type": "code",
   "execution_count": null,
   "metadata": {},
   "outputs": [],
   "source": [
    "run_container('sum-app', 'python sum.py 3 3')"
   ]
  },
  {
   "cell_type": "code",
   "execution_count": 8,
   "metadata": {},
   "outputs": [
    {
     "name": "stdout",
     "output_type": "stream",
     "text": [
      "b'Round 20'\n",
      "b'Round 19'\n",
      "b'Round 18'\n",
      "b'Round 17'\n",
      "b'Round 16'\n",
      "b'Round 15'\n",
      "b'Round 14'\n",
      "b'Round 13'\n",
      "b'Round 12'\n",
      "b'Round 11'\n",
      "b'Round 10'\n",
      "b'Round 9'\n",
      "b'Round 8'\n",
      "b'Round 7'\n",
      "b'Round 6'\n",
      "b'Round 5'\n",
      "b'Round 4'\n",
      "b'Round 3'\n",
      "b'Round 2'\n",
      "b'Round 1'\n",
      "b'Round 0'\n",
      "b'The sum of 3.0 and 3.0 is 6.0'\n"
     ]
    }
   ],
   "source": [
    "import docker\n",
    "\n",
    "client = docker.from_env()\n",
    "\n",
    "# Replace with your specific details\n",
    "image_name = \"sum-app\"\n",
    "docker_command = \"python sum.py 3 3\"\n",
    "# container_name = image_name\n",
    "# ports = {\"80/tcp\": 8080}  # Optional: Map ports (container: host)\n",
    "# environment = {\"ENV_VAR\": \"value\"}  # Optional: Environment variables\n",
    "\n",
    "# Run the container\n",
    "container = client.containers.run(image_name, \n",
    "                                  command=docker_command,\n",
    "                                  # name=container_name,\n",
    "                                #   ports=ports, \n",
    "                                #   environment=environment, \n",
    "                                  detach=True\n",
    "            )\n",
    "\n",
    "# Follow logs\n",
    "for line in container.logs(stream=True, follow=True):\n",
    "    print(line.strip())"
   ]
  },
  {
   "cell_type": "code",
   "execution_count": 9,
   "metadata": {},
   "outputs": [],
   "source": [
    "import docker"
   ]
  },
  {
   "cell_type": "code",
   "execution_count": 14,
   "metadata": {},
   "outputs": [],
   "source": [
    "client = docker.from_env()\n",
    "\n",
    "def run_container(image, command, **kwargs):\n",
    "    try:\n",
    "        container = client.containers.run(\n",
    "            image=image,\n",
    "            command=command,\n",
    "            detach=True,\n",
    "            **kwargs\n",
    "        )\n",
    "        \n",
    "        for line in container.logs(stream=True, follow=True):\n",
    "            print(line.strip().decode(\"utf-8\"))\n",
    "        \n",
    "    except (ContainerError, ImageNotFound, APIError) as e:\n",
    "        print(e)\n",
    "        raise e\n",
    "    except Exception as e:\n",
    "        print(f\"An error occurred: {str(e)}\")\n",
    "        raise e\n",
    "    \n",
    "    finally:\n",
    "        try:\n",
    "            container.remove()\n",
    "        except Exception as e:\n",
    "            print(f\"An error occurred while removing container: {str(e)}\")\n",
    "            pass"
   ]
  },
  {
   "cell_type": "code",
   "execution_count": 15,
   "metadata": {},
   "outputs": [
    {
     "name": "stdout",
     "output_type": "stream",
     "text": [
      "Round 20\n",
      "Round 19\n",
      "Round 18\n",
      "Round 17\n",
      "Round 16\n",
      "Round 15\n",
      "Round 14\n",
      "Round 13\n",
      "Round 12\n",
      "Round 11\n",
      "Round 10\n",
      "Round 9\n",
      "Round 8\n",
      "Round 7\n",
      "Round 6\n",
      "Round 5\n",
      "Round 4\n",
      "Round 3\n",
      "Round 2\n",
      "Round 1\n",
      "Round 0\n",
      "The sum of 3.0 and 3.0 is 6.0\n",
      "Container status: created\n"
     ]
    }
   ],
   "source": [
    "run_container('sum-app', 'python -u sum.py 3 3')"
   ]
  },
  {
   "cell_type": "code",
   "execution_count": null,
   "metadata": {},
   "outputs": [],
   "source": []
  }
 ],
 "metadata": {
  "kernelspec": {
   "display_name": "node",
   "language": "python",
   "name": "python3"
  },
  "language_info": {
   "codemirror_mode": {
    "name": "ipython",
    "version": 3
   },
   "file_extension": ".py",
   "mimetype": "text/x-python",
   "name": "python",
   "nbconvert_exporter": "python",
   "pygments_lexer": "ipython3",
   "version": "3.10.13"
  },
  "orig_nbformat": 4
 },
 "nbformat": 4,
 "nbformat_minor": 2
}
