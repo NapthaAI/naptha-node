{
 "cells": [
  {
   "cell_type": "code",
   "execution_count": 1,
   "metadata": {},
   "outputs": [
    {
     "data": {
      "text/plain": [
       "True"
      ]
     },
     "execution_count": 1,
     "metadata": {},
     "output_type": "execute_result"
    }
   ],
   "source": [
    "import os\n",
    "import jwt\n",
    "from dotenv import load_dotenv\n",
    "from surrealdb import Surreal\n",
    "load_dotenv('../.env')"
   ]
  },
  {
   "cell_type": "code",
   "execution_count": 2,
   "metadata": {},
   "outputs": [],
   "source": [
    "ns = os.getenv(\"HUB_NS\")\n",
    "db = os.getenv(\"HUB_DB\")\n",
    "endpoint = os.getenv(\"HUB_ENDPOINT\")\n",
    "username = \"buyer1\"\n",
    "password = \"buyer1pass\"\n",
    "\n",
    "\n",
    "# buyer sign in\n",
    "buyer = Surreal(\n",
    "    endpoint\n",
    ")\n",
    "await buyer.connect()\n",
    "await buyer.use(\n",
    "    namespace=ns,\n",
    "    database=db,\n",
    ")\n",
    "token = await buyer.signin(\n",
    "    {\n",
    "        \"NS\": ns,\n",
    "        \"DB\": db,\n",
    "        \"SC\": \"user\",\n",
    "        \"username\": username,\n",
    "        \"password\": password,\n",
    "    }\n",
    ")\n",
    "decoded = jwt.decode(token, options={\"verify_signature\": False})\n",
    "user_id = decoded[\"ID\"]\n",
    "\n",
    "# root sign in\n",
    "root = Surreal(\n",
    "    endpoint\n",
    ")\n",
    "await root.connect()\n",
    "await root.use(\n",
    "    namespace=ns,\n",
    "    database=db,\n",
    ")\n",
    "token = await root.signin(\n",
    "    {\n",
    "        'user': 'root',\n",
    "        'pass' : 'root'\n",
    "    }\n",
    ")\n"
   ]
  },
  {
   "cell_type": "code",
   "execution_count": 5,
   "metadata": {},
   "outputs": [
    {
     "data": {
      "text/plain": [
       "[]"
      ]
     },
     "execution_count": 5,
     "metadata": {},
     "output_type": "execute_result"
    }
   ],
   "source": [
    "await root.select('node')"
   ]
  },
  {
   "cell_type": "code",
   "execution_count": 4,
   "metadata": {},
   "outputs": [
    {
     "data": {
      "text/plain": [
       "[{'address': 'http://54.82.77.109:7001',\n",
       "  'arch': 'x86_64',\n",
       "  'id': 'node:f3ifye3a43qmdg7rbkhm',\n",
       "  'num_gpus': 0,\n",
       "  'os': 'Linux',\n",
       "  'ram': 16758861824,\n",
       "  'user_id': 'user:seller1',\n",
       "  'vram': 0,\n",
       "  'workflow_type': [\"['docker']\"]}]"
      ]
     },
     "execution_count": 4,
     "metadata": {},
     "output_type": "execute_result"
    }
   ],
   "source": [
    "await root.delete('node')"
   ]
  },
  {
   "cell_type": "code",
   "execution_count": null,
   "metadata": {},
   "outputs": [],
   "source": []
  }
 ],
 "metadata": {
  "kernelspec": {
   "display_name": "node",
   "language": "python",
   "name": "python3"
  },
  "language_info": {
   "codemirror_mode": {
    "name": "ipython",
    "version": 3
   },
   "file_extension": ".py",
   "mimetype": "text/x-python",
   "name": "python",
   "nbconvert_exporter": "python",
   "pygments_lexer": "ipython3",
   "version": "3.12.1"
  },
  "orig_nbformat": 4
 },
 "nbformat": 4,
 "nbformat_minor": 2
}
